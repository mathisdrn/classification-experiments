{
 "cells": [
  {
   "cell_type": "markdown",
   "metadata": {},
   "source": [
    "---\n",
    "title: Implémentation de classifieurs binaires paramétriques\n",
    "---"
   ]
  },
  {
   "cell_type": "markdown",
   "metadata": {},
   "source": [
    "Algorithmes de classification paramétriques implémentés :\n",
    "- SVM linéaire (ou noyau linéaire)\n",
    "- Régression logistique\n",
    "\n",
    "SVM :\n",
    "- One-class SVM pour gérer le déséquilibre des classes\n",
    "- Combiner avec des méthodes de sous/sur-échantillonnage (SMOTE, RandomUnderSampling)\n",
    "- Cost-sensitive SVM : Différentes pénalités C pour chaque classe\n",
    "- Ensemble de SVMs avec bagging\n",
    "\n",
    "Régression logistique :\n",
    "- Régression logistique avec pénalisation élastique (combinaison L1/L2)\n",
    "- Cost-sensitive avec pondération des classes\n",
    "- Régression logistique polynomiale\n",
    "- Régression logistique avec sélection de features"
   ]
  }
 ],
 "metadata": {
  "language_info": {
   "name": "python"
  }
 },
 "nbformat": 4,
 "nbformat_minor": 2
}
