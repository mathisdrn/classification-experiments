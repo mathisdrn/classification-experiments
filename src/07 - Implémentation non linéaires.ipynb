{
 "cells": [
  {
   "cell_type": "markdown",
   "metadata": {},
   "source": [
    "---\n",
    "title: Implémentation de classifieurs binaires non linéaires\n",
    "---"
   ]
  },
  {
   "cell_type": "markdown",
   "metadata": {},
   "source": [
    "Algorithmes de classification non linéaires implémentés :\n",
    "- Arbres de décisions\n",
    "- Forêts aléatoires\n",
    "- Adaboost\n",
    "\n",
    "Arbres/Forêts :\n",
    "- Random Forest avec cost-sensitive learning\n",
    "- Extremely Randomized Trees\n",
    "- Gradient Boosted Decision Trees\n",
    "- Weighted Random Forest pour classes déséquilibrées\n",
    "\n",
    "AdaBoost :\n",
    "- AdaBoost avec différents classifieurs de base\n",
    "- Cost-sensitive AdaBoost\n",
    "- AdaBoost.M1 avec early stopping\n",
    "- RUSBoost (combine boosting et under-sampling)"
   ]
  }
 ],
 "metadata": {
  "language_info": {
   "name": "python"
  }
 },
 "nbformat": 4,
 "nbformat_minor": 2
}
