{
 "cells": [
  {
   "cell_type": "markdown",
   "metadata": {},
   "source": [
    "---\n",
    "title: Évaluation des classifieurs\n",
    "---"
   ]
  },
  {
   "cell_type": "markdown",
   "metadata": {},
   "source": [
    "### Introduction"
   ]
  },
  {
   "cell_type": "markdown",
   "metadata": {},
   "source": [
    "Ce document présente les résultats des différents classifieurs binaire sur les 28 jeux de données fournis. \n",
    "Les résultats présenter dans ce document sont aggrégés sur les 28 jeux de données. Les résultats détaillés pour chaque jeu de données sont disponibles dans les fichiers respectif. Les résultats individuels permettent notamment d'évaluer "
   ]
  },
  {
   "cell_type": "code",
   "execution_count": null,
   "metadata": {},
   "outputs": [],
   "source": [
    "from pathlib import Path\n",
    "import pandas as pd\n",
    "from joblib import load"
   ]
  },
  {
   "cell_type": "markdown",
   "metadata": {},
   "source": [
    "#### Évaluation des classifieurs binaires"
   ]
  },
  {
   "cell_type": "code",
   "execution_count": 2,
   "metadata": {},
   "outputs": [],
   "source": [
    "import sys\n",
    "sys.path.append(\"./../src/\")\n",
    "\n",
    "from get_dataset import dataset_loaders\n",
    "dataset = list(dataset_loaders.keys())[0]"
   ]
  },
  {
   "cell_type": "markdown",
   "metadata": {},
   "source": [
    "La [](#table_report_LR1) montre les résultats de la classification par le modèle de régression logistique. On observe que :\n",
    "\n",
    "- $83,04 \\%$ des *spams* sont correctement identifiés\n",
    "- $99,59 \\%$ des *hams* sont correctement identifiés\n",
    "- $96,88 \\%$ des observations classifiées en tant que *spam* sont des *spams*\n",
    "- $97,43 \\%$ des observations classifiées en tant que *ham* sont des *hams*\n",
    "- Le score F1 moyen pondéré est de $97,98 \\%$ "
   ]
  }
 ],
 "metadata": {
  "kernelspec": {
   "display_name": ".venv",
   "language": "python",
   "name": "python3"
  },
  "language_info": {
   "codemirror_mode": {
    "name": "ipython",
    "version": 3
   },
   "file_extension": ".py",
   "mimetype": "text/x-python",
   "name": "python",
   "nbconvert_exporter": "python",
   "pygments_lexer": "ipython3",
   "version": "3.12.8"
  }
 },
 "nbformat": 4,
 "nbformat_minor": 2
}
