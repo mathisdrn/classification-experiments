{
 "cells": [
  {
   "cell_type": "markdown",
   "metadata": {},
   "source": [
    "---\n",
    "title: Implémentation de classifieurs binaires \n",
    "---"
   ]
  },
  {
   "cell_type": "markdown",
   "metadata": {},
   "source": [
    "### Imports"
   ]
  },
  {
   "cell_type": "code",
   "execution_count": 1,
   "metadata": {},
   "outputs": [],
   "source": [
    "from get_dataset import load_dataset, dataset_loaders\n",
    "\n",
    "FILE = list(dataset_loaders.keys())[0]\n",
    "\n",
    "X, y = load_dataset(FILE)"
   ]
  },
  {
   "cell_type": "markdown",
   "metadata": {},
   "source": [
    "### Classifieurs non paramétriques linéaires\n",
    "\n",
    "Algorithmes de classification non paramétriques implémentés :\n",
    "- K-Nearest Neighbors\n",
    "- Condensed Nearest Neighbor\n",
    "\n",
    "Ajout de variantes : \n",
    "- Distance-Weighted KNN : Pondérer les votes des voisins selon leur distance\n",
    "- Feature-Weighted KNN : Pondérer différemment chaque feature lors du calcul des distances\n",
    "- Locally Adaptive KNN : Adapter k localement selon la densité des points\n",
    "\n",
    "Méthodes de réduction des données :\n",
    "En plus du Condensed NN déjà mentionné\n",
    "- Edited KNN pour nettoyer les données bruitées\n",
    "- MNIST (Modified Selective Neural Network Instance Selection Technique)"
   ]
  },
  {
   "cell_type": "code",
   "execution_count": null,
   "metadata": {},
   "outputs": [],
   "source": []
  },
  {
   "cell_type": "markdown",
   "metadata": {},
   "source": [
    "### Classifieurs binaires non linéaires\n",
    "\n",
    "Algorithmes de classification non linéaires implémentés :\n",
    "- Arbres de décisions\n",
    "- Forêts aléatoires\n",
    "- Adaboost\n",
    "\n",
    "Arbres/Forêts :\n",
    "- Random Forest avec cost-sensitive learning\n",
    "- Extremely Randomized Trees\n",
    "- Gradient Boosted Decision Trees\n",
    "- Weighted Random Forest pour classes déséquilibrées\n",
    "\n",
    "AdaBoost :\n",
    "- AdaBoost avec différents classifieurs de base\n",
    "- Cost-sensitive AdaBoost\n",
    "- AdaBoost.M1 avec early stopping\n",
    "- RUSBoost (combine boosting et under-sampling)"
   ]
  },
  {
   "cell_type": "code",
   "execution_count": null,
   "metadata": {},
   "outputs": [],
   "source": []
  },
  {
   "cell_type": "markdown",
   "metadata": {},
   "source": [
    "### Classifieurs binaires paramétriques\n",
    "\n",
    "Algorithmes de classification paramétriques implémentés :\n",
    "- SVM linéaire (ou noyau linéaire)\n",
    "- Régression logistique\n",
    "\n",
    "SVM :\n",
    "- One-class SVM pour gérer le déséquilibre des classes\n",
    "- Combiner avec des méthodes de sous/sur-échantillonnage (SMOTE, RandomUnderSampling)\n",
    "- Cost-sensitive SVM : Différentes pénalités C pour chaque classe\n",
    "- Ensemble de SVMs avec bagging\n",
    "\n",
    "Régression logistique :\n",
    "- Régression logistique avec pénalisation élastique (combinaison L1/L2)\n",
    "- Cost-sensitive avec pondération des classes\n",
    "- Régression logistique polynomiale\n",
    "- Régression logistique avec sélection de features"
   ]
  },
  {
   "cell_type": "code",
   "execution_count": null,
   "metadata": {},
   "outputs": [],
   "source": []
  },
  {
   "cell_type": "markdown",
   "metadata": {},
   "source": [
    "### Évaluation"
   ]
  },
  {
   "cell_type": "code",
   "execution_count": 2,
   "metadata": {},
   "outputs": [],
   "source": [
    "from utils import roc_plot, precision_recall_plot, table_report\n"
   ]
  },
  {
   "cell_type": "markdown",
   "metadata": {},
   "source": [
    "La [](#table_report_LR1) montre les résultats de la classification par le modèle de régression logistique. On observe que :\n",
    "\n",
    "- $83,04 \\%$ des *spams* sont correctement identifiés\n",
    "- $99,59 \\%$ des *hams* sont correctement identifiés\n",
    "- $96,88 \\%$ des observations classifiées en tant que *spam* sont des *spams*\n",
    "- $97,43 \\%$ des observations classifiées en tant que *ham* sont des *hams*\n",
    "- Le score F1 moyen pondéré est de $97,98 \\%$ "
   ]
  },
  {
   "cell_type": "markdown",
   "metadata": {},
   "source": []
  }
 ],
 "metadata": {
  "kernelspec": {
   "display_name": ".venv",
   "language": "python",
   "name": "python3"
  },
  "language_info": {
   "codemirror_mode": {
    "name": "ipython",
    "version": 3
   },
   "file_extension": ".py",
   "mimetype": "text/x-python",
   "name": "python",
   "nbconvert_exporter": "python",
   "pygments_lexer": "ipython3",
   "version": "3.12.8"
  }
 },
 "nbformat": 4,
 "nbformat_minor": 2
}
