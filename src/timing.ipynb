{
 "cells": [
  {
   "cell_type": "markdown",
   "metadata": {},
   "source": [
    "---\n",
    "title: Temps d'exécution des classifieurs\n",
    "---"
   ]
  },
  {
   "cell_type": "markdown",
   "metadata": {},
   "source": [
    "Dans ce document nous évaluons le temps d'exécution des classsifieurs binaire utilisés dans ce projet. \n",
    "Nous fixons chacun des modèles sur des hyperparamètres raisonnable et nous évaluons le temps d'exécution de chacun des modèles sur un jeu de données de taille 1000, 10000, 100000 issue d'un des jeux de données fournis."
   ]
  },
  {
   "cell_type": "markdown",
   "metadata": {},
   "source": [
    "### Définition des modèles"
   ]
  },
  {
   "cell_type": "code",
   "execution_count": null,
   "metadata": {},
   "outputs": [],
   "source": [
    "from sklearn.neighbors import KNeighborsClassifier\n",
    "\n",
    "models = {\n",
    "    'KNN': KNeighborsClassifier(weights='uniform', algorithm='auto'),\n",
    "    'KNN Distance Weighted': KNeighborsClassifier(weights='distance', algorithm='auto'),\n",
    "    \n",
    "}\n",
    "model = KNeighborsClassifier(weights='uniform', algorithm='auto')"
   ]
  },
  {
   "cell_type": "markdown",
   "metadata": {},
   "source": [
    "### Calcul du temps d'exécution"
   ]
  },
  {
   "cell_type": "markdown",
   "metadata": {},
   "source": []
  }
 ],
 "metadata": {
  "kernelspec": {
   "display_name": ".venv",
   "language": "python",
   "name": "python3"
  },
  "language_info": {
   "name": "python",
   "version": "3.12.8"
  }
 },
 "nbformat": 4,
 "nbformat_minor": 2
}
