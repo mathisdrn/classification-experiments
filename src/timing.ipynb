{
 "cells": [
  {
   "cell_type": "markdown",
   "metadata": {},
   "source": [
    "---\n",
    "title: Temps d'exécution des classifieurs\n",
    "---"
   ]
  },
  {
   "cell_type": "markdown",
   "metadata": {},
   "source": [
    "Dans ce document nous évaluons le temps d'exécution de certain des classsifieurs binaires utilisés dans ce projet. Les paramètres des modèles sont ceux par défaut. Nous utilisons un jeu de données synthétique de taille 100000."
   ]
  },
  {
   "cell_type": "markdown",
   "metadata": {},
   "source": [
    "### Définition des modèles"
   ]
  },
  {
   "cell_type": "code",
   "execution_count": 16,
   "metadata": {},
   "outputs": [],
   "source": [
    "from sklearn.neighbors import KNeighborsClassifier\n",
    "from sklearn.tree import DecisionTreeClassifier\n",
    "from sklearn.ensemble import RandomForestClassifier\n",
    "from sklearn.ensemble import AdaBoostClassifier\n",
    "from sklearn.ensemble import GradientBoostingClassifier\n",
    "from sklearn.svm import SVC\n",
    "from sklearn.linear_model import LogisticRegression\n",
    "\n",
    "models = {\n",
    "    'KNN': KNeighborsClassifier(weights='uniform', algorithm='auto'),\n",
    "    'KNN Distance Weighted': KNeighborsClassifier(weights='distance', algorithm='auto'),\n",
    "    'DecisionTree': DecisionTreeClassifier(),\n",
    "    'RandomForest': RandomForestClassifier(),\n",
    "    'AdaBoost': AdaBoostClassifier(),\n",
    "    'GradientBoosting': GradientBoostingClassifier(),\n",
    "    'SVM linear': SVC(kernel='linear'),\n",
    "    'SVM rbf': SVC(kernel='rbf'),\n",
    "    'SVM poly': SVC(kernel='poly'),\n",
    "    'SVM sigmoid': SVC(kernel='sigmoid'),\n",
    "    'LogisticRegression': LogisticRegression()\n",
    "}"
   ]
  },
  {
   "cell_type": "markdown",
   "metadata": {},
   "source": [
    "### Calcul du temps d'exécution"
   ]
  },
  {
   "cell_type": "code",
   "execution_count": 17,
   "metadata": {},
   "outputs": [],
   "source": [
    "import time\n",
    "import numpy as np\n",
    "import pandas as pd\n",
    "from sklearn.datasets import make_classification\n",
    "from sklearn.model_selection import train_test_split\n",
    "\n",
    "dataset_sizes = [10000]\n",
    "n_features = 10\n",
    "\n",
    "time_results = []\n",
    "\n",
    "def evaluate_execution_time(model, X_train, y_train):\n",
    "    start_time = time.time()\n",
    "    model.fit(X_train, y_train)\n",
    "    end_time = time.time()\n",
    "    return end_time - start_time\n",
    "\n",
    "# Génération des datasets et benchmark\n",
    "for size in dataset_sizes:\n",
    "    X, y = make_classification(n_samples=size, n_features=n_features, random_state=42)\n",
    "    \n",
    "    for model_name, model in models.items():\n",
    "        times = []\n",
    "        for _ in range(5):\n",
    "            exec_time = evaluate_execution_time(model, X, y)\n",
    "            times.append(exec_time)\n",
    "        \n",
    "        avg_time = np.mean(times)\n",
    "        time_results.append({\n",
    "            'Model': model_name,\n",
    "            'Dataset Size': size,\n",
    "            'Average Execution Time (s)': avg_time\n",
    "        })"
   ]
  },
  {
   "cell_type": "code",
   "execution_count": 18,
   "metadata": {},
   "outputs": [
    {
     "data": {
      "text/html": [
       "<div>\n",
       "<style scoped>\n",
       "    .dataframe tbody tr th:only-of-type {\n",
       "        vertical-align: middle;\n",
       "    }\n",
       "\n",
       "    .dataframe tbody tr th {\n",
       "        vertical-align: top;\n",
       "    }\n",
       "\n",
       "    .dataframe thead th {\n",
       "        text-align: right;\n",
       "    }\n",
       "</style>\n",
       "<table border=\"1\" class=\"dataframe\">\n",
       "  <thead>\n",
       "    <tr style=\"text-align: right;\">\n",
       "      <th></th>\n",
       "      <th>Model</th>\n",
       "      <th>Dataset Size</th>\n",
       "      <th>Average Execution Time (s)</th>\n",
       "    </tr>\n",
       "  </thead>\n",
       "  <tbody>\n",
       "    <tr>\n",
       "      <th>0</th>\n",
       "      <td>KNN</td>\n",
       "      <td>10000</td>\n",
       "      <td>0.003</td>\n",
       "    </tr>\n",
       "    <tr>\n",
       "      <th>1</th>\n",
       "      <td>KNN Distance Weighted</td>\n",
       "      <td>10000</td>\n",
       "      <td>0.003</td>\n",
       "    </tr>\n",
       "    <tr>\n",
       "      <th>10</th>\n",
       "      <td>LogisticRegression</td>\n",
       "      <td>10000</td>\n",
       "      <td>0.005</td>\n",
       "    </tr>\n",
       "    <tr>\n",
       "      <th>2</th>\n",
       "      <td>DecisionTree</td>\n",
       "      <td>10000</td>\n",
       "      <td>0.106</td>\n",
       "    </tr>\n",
       "    <tr>\n",
       "      <th>9</th>\n",
       "      <td>SVM sigmoid</td>\n",
       "      <td>10000</td>\n",
       "      <td>0.366</td>\n",
       "    </tr>\n",
       "    <tr>\n",
       "      <th>7</th>\n",
       "      <td>SVM rbf</td>\n",
       "      <td>10000</td>\n",
       "      <td>0.457</td>\n",
       "    </tr>\n",
       "    <tr>\n",
       "      <th>4</th>\n",
       "      <td>AdaBoost</td>\n",
       "      <td>10000</td>\n",
       "      <td>0.544</td>\n",
       "    </tr>\n",
       "    <tr>\n",
       "      <th>8</th>\n",
       "      <td>SVM poly</td>\n",
       "      <td>10000</td>\n",
       "      <td>0.627</td>\n",
       "    </tr>\n",
       "    <tr>\n",
       "      <th>6</th>\n",
       "      <td>SVM linear</td>\n",
       "      <td>10000</td>\n",
       "      <td>0.810</td>\n",
       "    </tr>\n",
       "    <tr>\n",
       "      <th>3</th>\n",
       "      <td>RandomForest</td>\n",
       "      <td>10000</td>\n",
       "      <td>1.989</td>\n",
       "    </tr>\n",
       "    <tr>\n",
       "      <th>5</th>\n",
       "      <td>GradientBoosting</td>\n",
       "      <td>10000</td>\n",
       "      <td>2.776</td>\n",
       "    </tr>\n",
       "  </tbody>\n",
       "</table>\n",
       "</div>"
      ],
      "text/plain": [
       "                    Model  Dataset Size  Average Execution Time (s)\n",
       "0                     KNN         10000                       0.003\n",
       "1   KNN Distance Weighted         10000                       0.003\n",
       "10     LogisticRegression         10000                       0.005\n",
       "2            DecisionTree         10000                       0.106\n",
       "9             SVM sigmoid         10000                       0.366\n",
       "7                 SVM rbf         10000                       0.457\n",
       "4                AdaBoost         10000                       0.544\n",
       "8                SVM poly         10000                       0.627\n",
       "6              SVM linear         10000                       0.810\n",
       "3            RandomForest         10000                       1.989\n",
       "5        GradientBoosting         10000                       2.776"
      ]
     },
     "execution_count": 18,
     "metadata": {},
     "output_type": "execute_result"
    }
   ],
   "source": [
    "df = pd.DataFrame(time_results)\n",
    "df = df.round(3)\n",
    "df = df.sort_values(by=['Dataset Size', 'Average Execution Time (s)'], ascending=True)\n",
    "df"
   ]
  },
  {
   "cell_type": "markdown",
   "metadata": {},
   "source": [
    "Il est important de noter que le temps d'exécution dépend de nombreux critères (hyperparamètres, solver, sparsity de la matrice, etc.) et que les résultats obtenus ici ne présage en rien des performances réelles mais peut toutefois permettre d'obtenir une idée de l'order de grandeur du temps d'exécution."
   ]
  }
 ],
 "metadata": {
  "kernelspec": {
   "display_name": ".venv",
   "language": "python",
   "name": "python3"
  },
  "language_info": {
   "codemirror_mode": {
    "name": "ipython",
    "version": 3
   },
   "file_extension": ".py",
   "mimetype": "text/x-python",
   "name": "python",
   "nbconvert_exporter": "python",
   "pygments_lexer": "ipython3",
   "version": "3.12.8"
  }
 },
 "nbformat": 4,
 "nbformat_minor": 2
}
