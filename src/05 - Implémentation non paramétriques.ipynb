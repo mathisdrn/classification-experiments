{
 "cells": [
  {
   "cell_type": "markdown",
   "metadata": {},
   "source": [
    "---\n",
    "title: Implémentation de classifieurs non paramétriques linéaires\n",
    "---"
   ]
  },
  {
   "cell_type": "markdown",
   "metadata": {},
   "source": [
    "Algorithmes de classification non paramétriques implémentés :\n",
    "- K-Nearest Neighbors\n",
    "- Condensed Nearest Neighbor\n",
    "\n",
    "Ajout de variantes : \n",
    "- Distance-Weighted KNN : Pondérer les votes des voisins selon leur distance\n",
    "- Feature-Weighted KNN : Pondérer différemment chaque feature lors du calcul des distances\n",
    "- Locally Adaptive KNN : Adapter k localement selon la densité des points\n",
    "\n",
    "Méthodes de réduction des données :\n",
    "En plus du Condensed NN déjà mentionné\n",
    "- Edited KNN pour nettoyer les données bruitées\n",
    "- MNIST (Modified Selective Neural Network Instance Selection Technique)"
   ]
  }
 ],
 "metadata": {
  "language_info": {
   "name": "python"
  }
 },
 "nbformat": 4,
 "nbformat_minor": 2
}
