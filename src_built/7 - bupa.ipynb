{
 "cells": [
  {
   "cell_type": "markdown",
   "id": "83ec0515",
   "metadata": {},
   "source": [
    "---\n",
    "title: bupa\n",
    "---"
   ]
  },
  {
   "cell_type": "markdown",
   "id": "50fbb359",
   "metadata": {
    "papermill": {},
    "tags": []
   },
   "source": [
    "## Implémentation de classifieurs binaires \n",
    "\n",
    "### Imports"
   ]
  },
  {
   "cell_type": "code",
   "execution_count": null,
   "id": "4f550938",
   "metadata": {
    "papermill": {},
    "tags": []
   },
   "outputs": [],
   "source": [
    "from joblib import parallel_backend\n",
    "parallel_backend(\"loky\", n_jobs=-1)"
   ]
  },
  {
   "cell_type": "code",
   "execution_count": 1,
   "id": "0d82eb1b",
   "metadata": {
    "papermill": {},
    "tags": [
     "parameters"
    ]
   },
   "outputs": [
    {
     "data": {
      "text/plain": [
       "'bankmarketing'"
      ]
     },
     "execution_count": 1,
     "metadata": {},
     "output_type": "execute_result"
    }
   ],
   "source": [
    "import sys\n",
    "sys.path.append(\"./../src/\")\n",
    "\n",
    "from get_dataset import dataset_loaders\n",
    "dataset = list(dataset_loaders.keys())[6]\n",
    "dataset"
   ]
  },
  {
   "cell_type": "code",
   "execution_count": 2,
   "id": "c6baf816",
   "metadata": {
    "tags": [
     "injected-parameters"
    ]
   },
   "outputs": [],
   "source": [
    "# Parameters\n",
    "dataset = \"bupa\"\n"
   ]
  },
  {
   "cell_type": "code",
   "execution_count": 3,
   "id": "280deaf1",
   "metadata": {
    "papermill": {},
    "tags": []
   },
   "outputs": [],
   "source": [
    "from get_dataset import load_dataset\n",
    "\n",
    "X, y = load_dataset(dataset)"
   ]
  },
  {
   "cell_type": "markdown",
   "id": "17f2cd2a",
   "metadata": {
    "papermill": {},
    "tags": []
   },
   "source": [
    "### Data presentation\n",
    "\n",
    "**{eval}`dataset`\\** dataset contains `n` = {eval}`X.shape[0]` samples and `p` = {eval}`X.shape[1]` features.\n",
    "\n",
    "The target variable is binary and {eval}`y.mean() * 100:.2f`% of the samples are positive."
   ]
  },
  {
   "cell_type": "code",
   "execution_count": 4,
   "id": "230c7643",
   "metadata": {
    "papermill": {},
    "tags": []
   },
   "outputs": [],
   "source": [
    "from sklearn.model_selection import train_test_split\n",
    "\n",
    "# Split the dataset into training and testing sets\n",
    "X_train, X_test, y_train, y_test = train_test_split(X, y, test_size=0.3, random_state=42)\n",
    "\n",
    "from sklearn.preprocessing import StandardScaler\n",
    "\n",
    "# Normalize data using only the training set\n",
    "scaler = StandardScaler()\n",
    "scaler.fit(X_train)\n",
    "X_train = scaler.transform(X_train)\n",
    "X_test = scaler.transform(X_test)"
   ]
  },
  {
   "cell_type": "markdown",
   "id": "ae18d91f",
   "metadata": {
    "papermill": {},
    "tags": []
   },
   "source": [
    "#### Prepare model results storage"
   ]
  },
  {
   "cell_type": "code",
   "execution_count": 5,
   "id": "6f4aed73",
   "metadata": {
    "papermill": {},
    "tags": []
   },
   "outputs": [],
   "source": [
    "MODELS = dict()\n",
    "\n",
    "def store_results(name, grid):\n",
    "    MODELS[name] = {\n",
    "        \"best_params\": grid.best_params_,\n",
    "        \"X_test\": X_test,\n",
    "        \"y_true\": y_test,\n",
    "        \"y_pred\": grid.predict(X_test),\n",
    "        \"y_proba\": grid.predict_proba(X_test)\n",
    "    }\n",
    "     \n",
    "    pass"
   ]
  },
  {
   "cell_type": "code",
   "execution_count": 6,
   "id": "ff037040",
   "metadata": {
    "papermill": {},
    "tags": []
   },
   "outputs": [],
   "source": [
    "from sklearn.model_selection import GridSearchCV\n",
    "from sklearn.experimental import enable_halving_search_cv\n",
    "from sklearn.model_selection import HalvingRandomSearchCV\n",
    "\n",
    "def get_grid(model, params):\n",
    "    # grid = GridSearchCV(model, params, n_jobs=-1, cv=5)\n",
    "    grid = HalvingRandomSearchCV(model, params, n_jobs=-1, cv=5, verbose=1, scoring=\"accuracy\", refit=True)\n",
    "    return grid"
   ]
  },
  {
   "cell_type": "markdown",
   "id": "40e973c2",
   "metadata": {
    "papermill": {},
    "tags": []
   },
   "source": [
    "### Entraînement des classifieurs"
   ]
  },
  {
   "cell_type": "markdown",
   "id": "e2fa139d",
   "metadata": {
    "papermill": {},
    "tags": []
   },
   "source": [
    "#### Classifieurs non paramétriques"
   ]
  },
  {
   "cell_type": "markdown",
   "id": "891a6890",
   "metadata": {
    "papermill": {},
    "tags": []
   },
   "source": [
    "##### K-Nearest Neighbors"
   ]
  },
  {
   "cell_type": "code",
   "execution_count": 7,
   "id": "37c71ced",
   "metadata": {
    "papermill": {},
    "tags": []
   },
   "outputs": [
    {
     "name": "stdout",
     "output_type": "stream",
     "text": [
      "n_iterations: 2\n",
      "n_required_iterations: 2\n",
      "n_possible_iterations: 3\n",
      "min_resources_: 20\n",
      "max_resources_: 241\n",
      "aggressive_elimination: False\n",
      "factor: 3\n",
      "----------\n",
      "iter: 0\n",
      "n_candidates: 4\n",
      "n_resources: 20\n",
      "Fitting 5 folds for each of 4 candidates, totalling 20 fits\n"
     ]
    },
    {
     "name": "stderr",
     "output_type": "stream",
     "text": [
      "/Users/mathisderenne/Documents/02 - Scolaire/M1 MIASHS/02 - Guillaume Mezler/Projet/.venv/lib/python3.12/site-packages/sklearn/model_selection/_search.py:317: UserWarning: The total space of parameters 4 is smaller than n_iter=12. Running 4 iterations. For exhaustive searches, use GridSearchCV.\n",
      "  warnings.warn(\n"
     ]
    },
    {
     "name": "stdout",
     "output_type": "stream",
     "text": [
      "----------\n",
      "iter: 1\n",
      "n_candidates: 2\n",
      "n_resources: 60\n",
      "Fitting 5 folds for each of 2 candidates, totalling 10 fits\n"
     ]
    }
   ],
   "source": [
    "from sklearn.neighbors import KNeighborsClassifier\n",
    "\n",
    "model = KNeighborsClassifier(weights='uniform', algorithm='auto')\n",
    "\n",
    "param_grid = {\n",
    "    'n_neighbors': [3, 5, 7, 9],\n",
    "}\n",
    "\n",
    "grid_search = get_grid(model, param_grid)\n",
    "\n",
    "grid_search.fit(X_train, y_train)\n",
    "store_results('KNN', grid_search)"
   ]
  },
  {
   "cell_type": "markdown",
   "id": "975d7c42",
   "metadata": {
    "papermill": {},
    "tags": []
   },
   "source": [
    "##### Distance-Weighted KNN"
   ]
  },
  {
   "cell_type": "code",
   "execution_count": 8,
   "id": "369278ea",
   "metadata": {
    "papermill": {},
    "tags": []
   },
   "outputs": [
    {
     "name": "stdout",
     "output_type": "stream",
     "text": [
      "n_iterations: 2\n",
      "n_required_iterations: 2\n",
      "n_possible_iterations: 3\n",
      "min_resources_: 20\n",
      "max_resources_: 241\n",
      "aggressive_elimination: False\n",
      "factor: 3\n",
      "----------\n",
      "iter: 0\n",
      "n_candidates: 4\n",
      "n_resources: 20\n",
      "Fitting 5 folds for each of 4 candidates, totalling 20 fits\n",
      "----------\n",
      "iter: 1\n",
      "n_candidates: 2\n",
      "n_resources: 60\n",
      "Fitting 5 folds for each of 2 candidates, totalling 10 fits\n"
     ]
    },
    {
     "name": "stderr",
     "output_type": "stream",
     "text": [
      "/Users/mathisderenne/Documents/02 - Scolaire/M1 MIASHS/02 - Guillaume Mezler/Projet/.venv/lib/python3.12/site-packages/sklearn/model_selection/_search.py:317: UserWarning: The total space of parameters 4 is smaller than n_iter=12. Running 4 iterations. For exhaustive searches, use GridSearchCV.\n",
      "  warnings.warn(\n"
     ]
    }
   ],
   "source": [
    "model = KNeighborsClassifier(weights='distance', algorithm='auto')\n",
    "\n",
    "param_grid = {\n",
    "    'n_neighbors': [3, 5, 7, 9],\n",
    "}\n",
    "\n",
    "grid_search = get_grid(model, param_grid)\n",
    "\n",
    "grid_search.fit(X_train, y_train)\n",
    "store_results('KNN Distance Weighted', grid_search)"
   ]
  },
  {
   "cell_type": "markdown",
   "id": "3658595f",
   "metadata": {
    "papermill": {},
    "tags": []
   },
   "source": [
    "##### Condensed Nearest Neighbor"
   ]
  },
  {
   "cell_type": "code",
   "execution_count": 9,
   "id": "e4d6948e",
   "metadata": {
    "papermill": {},
    "tags": []
   },
   "outputs": [],
   "source": [
    "from imblearn.under_sampling import CondensedNearestNeighbour\n",
    "from sklearn.base import BaseEstimator, TransformerMixin\n",
    "from sklearn.utils import check_X_y\n",
    "from sklearn.utils.validation import validate_data\n",
    "\n",
    "# Wrap CondensedNearestNeighbour into an sklearn compatible transformer for use in pipelines\n",
    "class CondensedNearestNeighbourTransformer(BaseEstimator, TransformerMixin):\n",
    "    def __init__(self, sampling_strategy = \"auto\", random_state = 42, n_neighbors = None, n_seeds_S = 1):\n",
    "        self.sampling_strategy = sampling_strategy\n",
    "        self.random_state = random_state\n",
    "        self.n_neighbors = n_neighbors\n",
    "        self.n_seeds_S = n_seeds_S\n",
    "\n",
    "    def fit(self, X, y=None):\n",
    "        # validate_data(X, y, accept_sparse=True, reset=True)\n",
    "        self.n_features_in_ = X.shape[1]\n",
    "        \n",
    "        return self\n",
    "\n",
    "    def transform(self, X, y=None):\n",
    "        # check_X_y(X, y)\n",
    "\n",
    "        if y is None:\n",
    "            return X\n",
    "        else:    \n",
    "          return CondensedNearestNeighbour(\n",
    "            sampling_strategy = self.sampling_strategy,\n",
    "            random_state = self.random_state,\n",
    "            n_neighbors = self.n_neighbors,\n",
    "            n_seeds_S = self.n_seeds_S\n",
    "          ).fit_resample(X, y)\n",
    "\n",
    "from sklearn.utils.estimator_checks import check_estimator\n",
    "# check_estimator(CondensedNearestNeighbourTransformer())"
   ]
  },
  {
   "cell_type": "code",
   "execution_count": 10,
   "id": "a76cb8bb",
   "metadata": {
    "papermill": {},
    "tags": []
   },
   "outputs": [
    {
     "name": "stdout",
     "output_type": "stream",
     "text": [
      "n_iterations: 3\n",
      "n_required_iterations: 3\n",
      "n_possible_iterations: 3\n",
      "min_resources_: 20\n",
      "max_resources_: 241\n",
      "aggressive_elimination: False\n",
      "factor: 3\n",
      "----------\n",
      "iter: 0\n",
      "n_candidates: 12\n",
      "n_resources: 20\n",
      "Fitting 5 folds for each of 12 candidates, totalling 60 fits\n",
      "----------\n",
      "iter: 1\n",
      "n_candidates: 4\n",
      "n_resources: 60\n",
      "Fitting 5 folds for each of 4 candidates, totalling 20 fits\n",
      "----------\n",
      "iter: 2\n",
      "n_candidates: 2\n",
      "n_resources: 180\n",
      "Fitting 5 folds for each of 2 candidates, totalling 10 fits\n"
     ]
    }
   ],
   "source": [
    "from sklearn.pipeline import Pipeline\n",
    "\n",
    "model = Pipeline([\n",
    "    ('cnn', CondensedNearestNeighbourTransformer(sampling_strategy='auto', n_neighbors=3, n_seeds_S=1)),\n",
    "    ('knn', KNeighborsClassifier(weights='uniform', algorithm='auto'))\n",
    "])\n",
    "\n",
    "param_grid = {\n",
    "    'cnn__n_neighbors': [3, 5, 7, 9],\n",
    "    'knn__n_neighbors': [3, 5, 7, 9],\n",
    "}\n",
    "\n",
    "grid_search = get_grid(model, param_grid)\n",
    "\n",
    "grid_search.fit(X_train, y_train)\n",
    "store_results('KNN Condensed Nearest Neighbor', grid_search)"
   ]
  },
  {
   "cell_type": "markdown",
   "id": "a99c0981",
   "metadata": {
    "papermill": {},
    "tags": []
   },
   "source": [
    "##### Locally Adaptive KNN"
   ]
  },
  {
   "cell_type": "code",
   "execution_count": 11,
   "id": "8d00ad3b",
   "metadata": {
    "papermill": {},
    "tags": []
   },
   "outputs": [
    {
     "name": "stdout",
     "output_type": "stream",
     "text": [
      "n_iterations: 2\n",
      "n_required_iterations: 2\n",
      "n_possible_iterations: 3\n",
      "min_resources_: 20\n",
      "max_resources_: 241\n",
      "aggressive_elimination: False\n",
      "factor: 3\n",
      "----------\n",
      "iter: 0\n",
      "n_candidates: 4\n",
      "n_resources: 20\n",
      "Fitting 5 folds for each of 4 candidates, totalling 20 fits\n",
      "----------\n",
      "iter: 1\n",
      "n_candidates: 2\n",
      "n_resources: 60\n",
      "Fitting 5 folds for each of 2 candidates, totalling 10 fits\n"
     ]
    },
    {
     "name": "stderr",
     "output_type": "stream",
     "text": [
      "/Users/mathisderenne/Documents/02 - Scolaire/M1 MIASHS/02 - Guillaume Mezler/Projet/.venv/lib/python3.12/site-packages/sklearn/model_selection/_search.py:317: UserWarning: The total space of parameters 4 is smaller than n_iter=12. Running 4 iterations. For exhaustive searches, use GridSearchCV.\n",
      "  warnings.warn(\n"
     ]
    }
   ],
   "source": [
    "class LocallyAdaptiveKNN(KNeighborsClassifier):\n",
    "    def predict(self, X):\n",
    "        distances, indices = self.kneighbors(X)\n",
    "        predictions = []\n",
    "        for i, neighbors in enumerate(indices):\n",
    "            local_k = int(len(neighbors) / 2)  # Example of adapting k locally\n",
    "            local_knn = KNeighborsClassifier(n_neighbors=local_k)\n",
    "            local_knn.fit(self._fit_X[neighbors], self._y[neighbors])\n",
    "            predictions.append(local_knn.predict([X[i]])[0])\n",
    "        return predictions\n",
    "\n",
    "model = LocallyAdaptiveKNN(weights='uniform', algorithm='auto')\n",
    "\n",
    "param_grid = {\n",
    "    'n_neighbors': [3, 5, 7, 9],\n",
    "}\n",
    "\n",
    "grid_search = get_grid(model, param_grid)\n",
    "\n",
    "grid_search.fit(X_train, y_train)\n",
    "store_results('KNN Locally Adaptive', grid_search)"
   ]
  },
  {
   "cell_type": "markdown",
   "id": "3ffc0108",
   "metadata": {
    "papermill": {},
    "tags": []
   },
   "source": [
    "#### Classifieurs binaires non linéaires"
   ]
  },
  {
   "cell_type": "markdown",
   "id": "4af6c2b8",
   "metadata": {
    "papermill": {},
    "tags": []
   },
   "source": [
    "##### Arbre de décision (Decision Tree)"
   ]
  },
  {
   "cell_type": "code",
   "execution_count": 12,
   "id": "b2234f15",
   "metadata": {
    "papermill": {},
    "tags": []
   },
   "outputs": [
    {
     "name": "stdout",
     "output_type": "stream",
     "text": [
      "n_iterations: 3\n",
      "n_required_iterations: 3\n",
      "n_possible_iterations: 3\n",
      "min_resources_: 20\n",
      "max_resources_: 241\n",
      "aggressive_elimination: False\n",
      "factor: 3\n",
      "----------\n",
      "iter: 0\n",
      "n_candidates: 12\n",
      "n_resources: 20\n",
      "Fitting 5 folds for each of 12 candidates, totalling 60 fits\n",
      "----------\n",
      "iter: 1\n",
      "n_candidates: 4\n",
      "n_resources: 60\n",
      "Fitting 5 folds for each of 4 candidates, totalling 20 fits\n",
      "----------\n",
      "iter: 2\n",
      "n_candidates: 2\n",
      "n_resources: 180\n",
      "Fitting 5 folds for each of 2 candidates, totalling 10 fits\n"
     ]
    }
   ],
   "source": [
    "from sklearn.tree import DecisionTreeClassifier\n",
    "\n",
    "model = DecisionTreeClassifier(random_state=42)\n",
    "\n",
    "param_grid = {\n",
    "    'max_depth': [3, 5, 7, 9],\n",
    "    'min_samples_split': [2, 5, 10]\n",
    "}\n",
    "\n",
    "grid_search = get_grid(model, param_grid)\n",
    "\n",
    "grid_search.fit(X_train, y_train)\n",
    "store_results('Decision Tree', grid_search)"
   ]
  },
  {
   "cell_type": "markdown",
   "id": "42c1935d",
   "metadata": {
    "papermill": {},
    "tags": []
   },
   "source": [
    "##### Forêt aléatoire (RandomForest)"
   ]
  },
  {
   "cell_type": "code",
   "execution_count": 13,
   "id": "2495e42d",
   "metadata": {
    "papermill": {},
    "tags": []
   },
   "outputs": [
    {
     "name": "stdout",
     "output_type": "stream",
     "text": [
      "n_iterations: 3\n",
      "n_required_iterations: 3\n",
      "n_possible_iterations: 3\n",
      "min_resources_: 20\n",
      "max_resources_: 241\n",
      "aggressive_elimination: False\n",
      "factor: 3\n",
      "----------\n",
      "iter: 0\n",
      "n_candidates: 12\n",
      "n_resources: 20\n",
      "Fitting 5 folds for each of 12 candidates, totalling 60 fits\n",
      "----------\n",
      "iter: 1\n",
      "n_candidates: 4\n",
      "n_resources: 60\n",
      "Fitting 5 folds for each of 4 candidates, totalling 20 fits\n",
      "----------\n",
      "iter: 2\n",
      "n_candidates: 2\n",
      "n_resources: 180\n",
      "Fitting 5 folds for each of 2 candidates, totalling 10 fits\n"
     ]
    }
   ],
   "source": [
    "from sklearn.ensemble import RandomForestClassifier\n",
    "\n",
    "model = RandomForestClassifier(random_state=42, class_weight=None)\n",
    "\n",
    "param_grid = {\n",
    "    'n_estimators': [50, 100, 200],\n",
    "    'max_depth': [3, 5, 7, 9],\n",
    "    'min_samples_split': [2, 5, 10],\n",
    "}\n",
    "\n",
    "grid_search = get_grid(model, param_grid)\n",
    "\n",
    "grid_search.fit(X_train, y_train)\n",
    "store_results('Random Forest', grid_search)"
   ]
  },
  {
   "cell_type": "markdown",
   "id": "c48f9d99",
   "metadata": {
    "papermill": {},
    "tags": []
   },
   "source": [
    "##### Forêt aléatoire avec cost-sensitive learning"
   ]
  },
  {
   "cell_type": "code",
   "execution_count": 14,
   "id": "6a3badf1",
   "metadata": {
    "papermill": {},
    "tags": []
   },
   "outputs": [
    {
     "name": "stdout",
     "output_type": "stream",
     "text": [
      "n_iterations: 3\n",
      "n_required_iterations: 3\n",
      "n_possible_iterations: 3\n",
      "min_resources_: 20\n",
      "max_resources_: 241\n",
      "aggressive_elimination: False\n",
      "factor: 3\n",
      "----------\n",
      "iter: 0\n",
      "n_candidates: 12\n",
      "n_resources: 20\n",
      "Fitting 5 folds for each of 12 candidates, totalling 60 fits\n",
      "----------\n",
      "iter: 1\n",
      "n_candidates: 4\n",
      "n_resources: 60\n",
      "Fitting 5 folds for each of 4 candidates, totalling 20 fits\n",
      "----------\n",
      "iter: 2\n",
      "n_candidates: 2\n",
      "n_resources: 180\n",
      "Fitting 5 folds for each of 2 candidates, totalling 10 fits\n"
     ]
    }
   ],
   "source": [
    "from sklearn.ensemble import RandomForestClassifier\n",
    "\n",
    "model = RandomForestClassifier(random_state=42, class_weight='balanced')\n",
    "\n",
    "param_grid = {\n",
    "    'n_estimators': [50, 100, 200],\n",
    "    'max_depth': [3, 5, 7, 9],\n",
    "    'min_samples_split': [2, 5, 10],\n",
    "}\n",
    "\n",
    "grid_search = get_grid(model, param_grid)\n",
    "\n",
    "grid_search.fit(X_train, y_train)\n",
    "store_results('Random Forest - cost-sensitive learning', grid_search)"
   ]
  },
  {
   "cell_type": "markdown",
   "id": "167b0e51",
   "metadata": {
    "papermill": {},
    "tags": []
   },
   "source": [
    "##### AdaBoost"
   ]
  },
  {
   "cell_type": "code",
   "execution_count": 15,
   "id": "67416d51",
   "metadata": {
    "papermill": {},
    "tags": []
   },
   "outputs": [
    {
     "name": "stdout",
     "output_type": "stream",
     "text": [
      "n_iterations: 3\n",
      "n_required_iterations: 3\n",
      "n_possible_iterations: 3\n",
      "min_resources_: 20\n",
      "max_resources_: 241\n",
      "aggressive_elimination: False\n",
      "factor: 3\n",
      "----------\n",
      "iter: 0\n",
      "n_candidates: 9\n",
      "n_resources: 20\n",
      "Fitting 5 folds for each of 9 candidates, totalling 45 fits\n"
     ]
    },
    {
     "name": "stderr",
     "output_type": "stream",
     "text": [
      "/Users/mathisderenne/Documents/02 - Scolaire/M1 MIASHS/02 - Guillaume Mezler/Projet/.venv/lib/python3.12/site-packages/sklearn/model_selection/_search.py:317: UserWarning: The total space of parameters 9 is smaller than n_iter=12. Running 9 iterations. For exhaustive searches, use GridSearchCV.\n",
      "  warnings.warn(\n"
     ]
    },
    {
     "name": "stdout",
     "output_type": "stream",
     "text": [
      "----------\n",
      "iter: 1\n",
      "n_candidates: 3\n",
      "n_resources: 60\n",
      "Fitting 5 folds for each of 3 candidates, totalling 15 fits\n",
      "----------\n",
      "iter: 2\n",
      "n_candidates: 1\n",
      "n_resources: 180\n",
      "Fitting 5 folds for each of 1 candidates, totalling 5 fits\n"
     ]
    }
   ],
   "source": [
    "from sklearn.ensemble import AdaBoostClassifier\n",
    "\n",
    "model = AdaBoostClassifier(random_state=42)\n",
    "\n",
    "param_grid = {\n",
    "    'n_estimators': [50, 100, 200],\n",
    "    'learning_rate': [0.01, 0.1, 1.0]\n",
    "}\n",
    "\n",
    "grid_search = get_grid(model, param_grid)\n",
    "\n",
    "grid_search.fit(X_train, y_train)\n",
    "store_results('AdaBoost', grid_search)"
   ]
  },
  {
   "cell_type": "markdown",
   "id": "afae8f38",
   "metadata": {
    "papermill": {},
    "tags": []
   },
   "source": [
    "##### Gradient Boosting"
   ]
  },
  {
   "cell_type": "code",
   "execution_count": 16,
   "id": "4297a881",
   "metadata": {
    "papermill": {},
    "tags": []
   },
   "outputs": [
    {
     "name": "stdout",
     "output_type": "stream",
     "text": [
      "n_iterations: 3\n",
      "n_required_iterations: 3\n",
      "n_possible_iterations: 3\n",
      "min_resources_: 20\n",
      "max_resources_: 241\n",
      "aggressive_elimination: False\n",
      "factor: 3\n",
      "----------\n",
      "iter: 0\n",
      "n_candidates: 12\n",
      "n_resources: 20\n",
      "Fitting 5 folds for each of 12 candidates, totalling 60 fits\n",
      "----------\n",
      "iter: 1\n",
      "n_candidates: 4\n",
      "n_resources: 60\n",
      "Fitting 5 folds for each of 4 candidates, totalling 20 fits\n",
      "----------\n",
      "iter: 2\n",
      "n_candidates: 2\n",
      "n_resources: 180\n",
      "Fitting 5 folds for each of 2 candidates, totalling 10 fits\n"
     ]
    }
   ],
   "source": [
    "from sklearn.ensemble import GradientBoostingClassifier\n",
    "\n",
    "model = GradientBoostingClassifier(random_state=42)\n",
    "\n",
    "param_grid = {\n",
    "    'loss': ['log_loss', 'exponential'],\n",
    "    'n_estimators': [50, 100, 200],\n",
    "    'learning_rate': [0.01, 0.1, 1.0],\n",
    "    'max_depth': [3, 5, 7, 9]\n",
    "}\n",
    "\n",
    "grid_search = get_grid(model, param_grid)\n",
    "\n",
    "grid_search.fit(X_train, y_train)\n",
    "store_results('Gradient Boosting', grid_search)"
   ]
  },
  {
   "cell_type": "markdown",
   "id": "e54a906c",
   "metadata": {
    "papermill": {},
    "tags": []
   },
   "source": [
    "#### Classifieurs binaires paramétriques"
   ]
  },
  {
   "cell_type": "markdown",
   "id": "1f34560c",
   "metadata": {
    "papermill": {},
    "tags": []
   },
   "source": [
    "##### SVM Linéaire"
   ]
  },
  {
   "cell_type": "code",
   "execution_count": 17,
   "id": "47b26aca",
   "metadata": {
    "papermill": {},
    "tags": []
   },
   "outputs": [
    {
     "name": "stdout",
     "output_type": "stream",
     "text": [
      "n_iterations: 3\n",
      "n_required_iterations: 3\n",
      "n_possible_iterations: 3\n",
      "min_resources_: 20\n",
      "max_resources_: 241\n",
      "aggressive_elimination: False\n",
      "factor: 3\n",
      "----------\n",
      "iter: 0\n",
      "n_candidates: 9\n",
      "n_resources: 20\n",
      "Fitting 5 folds for each of 9 candidates, totalling 45 fits\n"
     ]
    },
    {
     "name": "stderr",
     "output_type": "stream",
     "text": [
      "/Users/mathisderenne/Documents/02 - Scolaire/M1 MIASHS/02 - Guillaume Mezler/Projet/.venv/lib/python3.12/site-packages/sklearn/model_selection/_search.py:317: UserWarning: The total space of parameters 9 is smaller than n_iter=12. Running 9 iterations. For exhaustive searches, use GridSearchCV.\n",
      "  warnings.warn(\n"
     ]
    },
    {
     "name": "stdout",
     "output_type": "stream",
     "text": [
      "----------\n",
      "iter: 1\n",
      "n_candidates: 3\n",
      "n_resources: 60\n",
      "Fitting 5 folds for each of 3 candidates, totalling 15 fits\n",
      "----------\n",
      "iter: 2\n",
      "n_candidates: 1\n",
      "n_resources: 180\n",
      "Fitting 5 folds for each of 1 candidates, totalling 5 fits\n"
     ]
    }
   ],
   "source": [
    "from sklearn.svm import SVC\n",
    "\n",
    "model = SVC(\n",
    "    kernel='linear',\n",
    "    random_state=42, probability=True)\n",
    "\n",
    "param_grid = {\n",
    "    'C': [0.1, 0.5, 1],\n",
    "    'degree': [2, 3, 4]\n",
    "}\n",
    "\n",
    "grid_search = get_grid(model, param_grid)\n",
    "\n",
    "grid_search.fit(X_train, y_train)\n",
    "store_results('SVM', grid_search)"
   ]
  },
  {
   "cell_type": "markdown",
   "id": "eea8a1ac",
   "metadata": {
    "papermill": {},
    "tags": []
   },
   "source": [
    "##### SVM  non linéaire"
   ]
  },
  {
   "cell_type": "code",
   "execution_count": 18,
   "id": "e64fdace",
   "metadata": {
    "papermill": {},
    "tags": []
   },
   "outputs": [
    {
     "name": "stdout",
     "output_type": "stream",
     "text": [
      "n_iterations: 3\n",
      "n_required_iterations: 3\n",
      "n_possible_iterations: 3\n",
      "min_resources_: 20\n",
      "max_resources_: 241\n",
      "aggressive_elimination: False\n",
      "factor: 3\n",
      "----------\n",
      "iter: 0\n",
      "n_candidates: 12\n",
      "n_resources: 20\n",
      "Fitting 5 folds for each of 12 candidates, totalling 60 fits\n",
      "----------\n",
      "iter: 1\n",
      "n_candidates: 4\n",
      "n_resources: 60\n",
      "Fitting 5 folds for each of 4 candidates, totalling 20 fits\n",
      "----------\n",
      "iter: 2\n",
      "n_candidates: 2\n",
      "n_resources: 180\n",
      "Fitting 5 folds for each of 2 candidates, totalling 10 fits\n"
     ]
    }
   ],
   "source": [
    "from sklearn.svm import SVC\n",
    "\n",
    "model = SVC(random_state=42, probability=True)\n",
    "\n",
    "param_grid = {\n",
    "    'kernel': ['poly', 'rbf', 'sigmoid'],\n",
    "    'C': [0.1, 0.5, 1],\n",
    "    'gamma': ['scale', 'auto']\n",
    "}\n",
    "\n",
    "grid_search = get_grid(model, param_grid)\n",
    "\n",
    "grid_search.fit(X_train, y_train)\n",
    "store_results('SVM non linéaire', grid_search)"
   ]
  },
  {
   "cell_type": "markdown",
   "id": "ed496a8d",
   "metadata": {
    "papermill": {},
    "tags": []
   },
   "source": [
    "##### SVM non linéaire avec sur-échantillonnage"
   ]
  },
  {
   "cell_type": "code",
   "execution_count": 19,
   "id": "1f77233c",
   "metadata": {
    "papermill": {},
    "tags": []
   },
   "outputs": [],
   "source": [
    "X_train, X_test, y_train, y_test = train_test_split(X, y, test_size=0.3, random_state=42)\n",
    "\n",
    "from sklearn.preprocessing import StandardScaler\n",
    "\n",
    "# Normalize data using only the training set\n",
    "scaler = StandardScaler()\n",
    "scaler.fit(X_train)\n",
    "X_train = scaler.transform(X_train)\n",
    "X_test = scaler.transform(X_test)"
   ]
  },
  {
   "cell_type": "code",
   "execution_count": 20,
   "id": "6f5c1d99",
   "metadata": {
    "papermill": {},
    "tags": []
   },
   "outputs": [
    {
     "name": "stdout",
     "output_type": "stream",
     "text": [
      "n_iterations: 3\n",
      "n_required_iterations: 3\n",
      "n_possible_iterations: 3\n",
      "min_resources_: 20\n",
      "max_resources_: 241\n",
      "aggressive_elimination: False\n",
      "factor: 3\n",
      "----------\n",
      "iter: 0\n",
      "n_candidates: 12\n",
      "n_resources: 20\n",
      "Fitting 5 folds for each of 12 candidates, totalling 60 fits\n",
      "----------\n",
      "iter: 1\n",
      "n_candidates: 4\n",
      "n_resources: 60\n",
      "Fitting 5 folds for each of 4 candidates, totalling 20 fits\n",
      "----------\n",
      "iter: 2\n",
      "n_candidates: 2\n",
      "n_resources: 180\n",
      "Fitting 5 folds for each of 2 candidates, totalling 10 fits\n"
     ]
    }
   ],
   "source": [
    "from imblearn.pipeline import Pipeline as ImbPipeline\n",
    "from imblearn.over_sampling import SMOTE\n",
    "from sklearn.svm import SVC\n",
    "\n",
    "model = ImbPipeline([\n",
    "    ('smote', SMOTE(sampling_strategy='auto', k_neighbors=1, random_state=42)),\n",
    "    ('svm', SVC(random_state=42, probability=True))\n",
    "])\n",
    "\n",
    "param_grid = {\n",
    "    'svm__kernel': ['poly', 'rbf', 'sigmoid'],\n",
    "    'svm__C': [0.1, 0.5, 1],\n",
    "    'svm__gamma': ['scale', 'auto']\n",
    "}\n",
    "\n",
    "grid_search = get_grid(model, param_grid)\n",
    "\n",
    "grid_search.fit(X_train, y_train)\n",
    "store_results('SVM non linéaire avec SMOTE', grid_search)"
   ]
  },
  {
   "cell_type": "markdown",
   "id": "1a7a09bd",
   "metadata": {
    "papermill": {},
    "tags": []
   },
   "source": [
    "##### SVM avec cost-sensitive learning (ajustement pénalité C)"
   ]
  },
  {
   "cell_type": "code",
   "execution_count": 21,
   "id": "b8e614f9",
   "metadata": {
    "papermill": {},
    "tags": []
   },
   "outputs": [
    {
     "name": "stdout",
     "output_type": "stream",
     "text": [
      "n_iterations: 3\n",
      "n_required_iterations: 3\n",
      "n_possible_iterations: 3\n",
      "min_resources_: 20\n",
      "max_resources_: 241\n",
      "aggressive_elimination: False\n",
      "factor: 3\n",
      "----------\n",
      "iter: 0\n",
      "n_candidates: 12\n",
      "n_resources: 20\n",
      "Fitting 5 folds for each of 12 candidates, totalling 60 fits\n",
      "----------\n",
      "iter: 1\n",
      "n_candidates: 4\n",
      "n_resources: 60\n",
      "Fitting 5 folds for each of 4 candidates, totalling 20 fits\n",
      "----------\n",
      "iter: 2\n",
      "n_candidates: 2\n",
      "n_resources: 180\n",
      "Fitting 5 folds for each of 2 candidates, totalling 10 fits\n"
     ]
    }
   ],
   "source": [
    "from sklearn.svm import SVC\n",
    "\n",
    "model = SVC(random_state=42, probability=True, class_weight='balanced')\n",
    "\n",
    "param_grid = {\n",
    "    'kernel': ['poly', 'rbf', 'sigmoid'],\n",
    "    'C': [0.1, 0.5, 1],\n",
    "    'gamma': ['scale', 'auto']\n",
    "}\n",
    "\n",
    "grid_search = get_grid(model, param_grid)\n",
    "\n",
    "grid_search.fit(X_train, y_train)\n",
    "store_results('SVM cost-sensitive learning', grid_search)"
   ]
  },
  {
   "cell_type": "markdown",
   "id": "065d9724",
   "metadata": {
    "papermill": {},
    "tags": []
   },
   "source": [
    "##### Régression logistique"
   ]
  },
  {
   "cell_type": "code",
   "execution_count": 22,
   "id": "7ec1a8bb",
   "metadata": {
    "papermill": {},
    "tags": []
   },
   "outputs": [
    {
     "name": "stdout",
     "output_type": "stream",
     "text": [
      "n_iterations: 3\n",
      "n_required_iterations: 3\n",
      "n_possible_iterations: 3\n",
      "min_resources_: 20\n",
      "max_resources_: 241\n",
      "aggressive_elimination: False\n",
      "factor: 3\n",
      "----------\n",
      "iter: 0\n",
      "n_candidates: 12\n",
      "n_resources: 20\n",
      "Fitting 5 folds for each of 12 candidates, totalling 60 fits\n",
      "----------\n",
      "iter: 1\n",
      "n_candidates: 4\n",
      "n_resources: 60\n",
      "Fitting 5 folds for each of 4 candidates, totalling 20 fits\n",
      "----------\n",
      "iter: 2\n",
      "n_candidates: 2\n",
      "n_resources: 180\n",
      "Fitting 5 folds for each of 2 candidates, totalling 10 fits\n"
     ]
    }
   ],
   "source": [
    "from sklearn.linear_model import LogisticRegression\n",
    "\n",
    "model = LogisticRegression(random_state=42, solver='liblinear', dual=False)\n",
    "\n",
    "param_grid = {\n",
    "    'C': [0.1, 0.5, 1],                         # Inverse de la force de régularisation\n",
    "    'penalty': ['l1', 'l2'],      # Type de régularisation\n",
    "    'class_weight': [None, 'balanced']          # Poids des classes\n",
    "}\n",
    "\n",
    "grid_search = get_grid(model, param_grid)\n",
    "\n",
    "grid_search.fit(X_train, y_train)\n",
    "store_results('Logistic Regression', grid_search)"
   ]
  },
  {
   "cell_type": "markdown",
   "id": "878329e0",
   "metadata": {
    "papermill": {},
    "tags": []
   },
   "source": [
    "#### Sauvegarde des prédictions et paramètres des modèles"
   ]
  },
  {
   "cell_type": "code",
   "execution_count": 23,
   "id": "2adc7afe",
   "metadata": {
    "papermill": {},
    "tags": []
   },
   "outputs": [
    {
     "data": {
      "text/plain": [
       "['./../results/bupa.joblib']"
      ]
     },
     "execution_count": 23,
     "metadata": {},
     "output_type": "execute_result"
    }
   ],
   "source": [
    "from pathlib import Path\n",
    "from joblib import dump\n",
    "\n",
    "# Save models results\n",
    "dump(MODELS, f\"./../results/{dataset}.joblib\")"
   ]
  },
  {
   "cell_type": "markdown",
   "id": "ea2e6aea",
   "metadata": {
    "papermill": {},
    "tags": []
   },
   "source": [
    "#### Performance des modèles sur les données de test"
   ]
  },
  {
   "cell_type": "code",
   "execution_count": null,
   "id": "cf3c8a03",
   "metadata": {
    "papermill": {},
    "tags": []
   },
   "outputs": [],
   "source": [
    "from utils import plot_roc, plot_precision_recall, table_report\n",
    "\n",
    "for model_name, model in MODELS.items():\n",
    "    print(f\"Model: {model_name}\")\n",
    "    table_report(model['y_true'], model['y_pred'])\n",
    "    plot_roc(model['y_true'], model['y_proba'][:, 1])\n",
    "    plot_precision_recall(model['y_true'], model['y_proba'][:, 1])"
   ]
  }
 ],
 "metadata": {
  "kernelspec": {
   "display_name": ".venv",
   "language": "python",
   "name": "python3"
  },
  "language_info": {
   "codemirror_mode": {
    "name": "ipython",
    "version": 3
   },
   "file_extension": ".py",
   "mimetype": "text/x-python",
   "name": "python",
   "nbconvert_exporter": "python",
   "pygments_lexer": "ipython3",
   "version": "3.12.8"
  },
  "papermill": {
   "default_parameters": {},
   "environment_variables": {},
   "input_path": "src/template.ipynb",
   "output_path": "src_built/7 - bupa.ipynb",
   "parameters": {
    "dataset": "bupa"
   },
   "version": "2.6.0"
  }
 },
 "nbformat": 4,
 "nbformat_minor": 5
}
