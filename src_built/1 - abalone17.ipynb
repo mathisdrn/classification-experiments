{
 "cells": [
  {
   "cell_type": "markdown",
   "id": "5253106f",
   "metadata": {},
   "source": [
    "---\n",
    "title: abalone17\n",
    "---"
   ]
  },
  {
   "cell_type": "markdown",
   "id": "053f1e6d",
   "metadata": {
    "papermill": {},
    "tags": []
   },
   "source": [
    "## Implémentation de classifieurs binaires \n",
    "\n",
    "### Imports"
   ]
  },
  {
   "cell_type": "code",
   "execution_count": 10,
   "id": "ebd3fb07",
   "metadata": {
    "papermill": {},
    "tags": []
   },
   "outputs": [
    {
     "data": {
      "text/plain": [
       "<joblib.parallel.parallel_backend at 0x13d122e40>"
      ]
     },
     "execution_count": 10,
     "metadata": {},
     "output_type": "execute_result"
    }
   ],
   "source": [
    "from joblib import parallel_backend\n",
    "parallel_backend(\"loky\", n_jobs=-1)"
   ]
  },
  {
   "cell_type": "code",
   "execution_count": 11,
   "id": "8ff0234b",
   "metadata": {
    "papermill": {},
    "tags": [
     "parameters"
    ]
   },
   "outputs": [],
   "source": [
    "import sys\n",
    "sys.path.append(\"./../src/\")\n",
    "\n",
    "from get_dataset import dataset_loaders\n",
    "dataset = list(dataset_loaders.keys())[6]\n",
    "dataset"
   ]
  },
  {
   "cell_type": "code",
   "execution_count": 12,
   "id": "6584df17",
   "metadata": {
    "tags": [
     "injected-parameters"
    ]
   },
   "outputs": [],
   "source": [
    "# Parameters\n",
    "dataset = \"abalone17\"\n"
   ]
  },
  {
   "cell_type": "code",
   "execution_count": 13,
   "id": "1c90fb48",
   "metadata": {
    "papermill": {},
    "tags": []
   },
   "outputs": [],
   "source": [
    "from get_dataset import load_dataset\n",
    "\n",
    "X, y = load_dataset(dataset)"
   ]
  },
  {
   "cell_type": "markdown",
   "id": "228d698f",
   "metadata": {
    "papermill": {},
    "tags": []
   },
   "source": [
    "### Data presentation\n",
    "\n",
    "**{eval}`dataset`\\** dataset contains `n` = {eval}`X.shape[0]` samples and `p` = {eval}`X.shape[1]` features.\n",
    "\n",
    "The target variable is binary and {eval}`y.mean() * 100:.2f`% of the samples are positive."
   ]
  },
  {
   "cell_type": "code",
   "execution_count": 14,
   "id": "a8a4ca8a",
   "metadata": {
    "papermill": {},
    "tags": []
   },
   "outputs": [],
   "source": [
    "from sklearn.model_selection import train_test_split\n",
    "\n",
    "# Split the dataset into training and testing sets\n",
    "X_train, X_test, y_train, y_test = train_test_split(X, y, test_size=0.3, random_state=42)\n",
    "\n",
    "from sklearn.preprocessing import StandardScaler\n",
    "\n",
    "# Normalize data using only the training set\n",
    "scaler = StandardScaler()\n",
    "scaler.fit(X_train)\n",
    "X_train = scaler.transform(X_train)\n",
    "X_test = scaler.transform(X_test)"
   ]
  },
  {
   "cell_type": "markdown",
   "id": "bf536900",
   "metadata": {
    "papermill": {},
    "tags": []
   },
   "source": [
    "#### Prepare model results storage"
   ]
  },
  {
   "cell_type": "code",
   "execution_count": 15,
   "id": "27959319",
   "metadata": {
    "papermill": {},
    "tags": []
   },
   "outputs": [],
   "source": [
    "MODELS = dict()\n",
    "\n",
    "def store_results(name, grid):\n",
    "    MODELS[name] = {\n",
    "        \"best_params\": grid.best_params_,\n",
    "        \"X_test\": X_test,\n",
    "        \"y_true\": y_test,\n",
    "        \"y_pred\": grid.predict(X_test),\n",
    "        \"y_proba\": grid.predict_proba(X_test)\n",
    "    }\n",
    "     \n",
    "    pass"
   ]
  },
  {
   "cell_type": "code",
   "execution_count": 16,
   "id": "4a6ba82e",
   "metadata": {
    "papermill": {},
    "tags": []
   },
   "outputs": [],
   "source": [
    "from sklearn.model_selection import GridSearchCV\n",
    "from sklearn.experimental import enable_halving_search_cv\n",
    "from sklearn.model_selection import HalvingRandomSearchCV\n",
    "\n",
    "def get_grid(model, params):\n",
    "    # grid = GridSearchCV(model, params, n_jobs=-1, cv=5)\n",
    "    grid = HalvingRandomSearchCV(model, params, n_jobs=-1, cv=5, verbose=1, scoring=\"accuracy\", refit=True)\n",
    "    return grid"
   ]
  },
  {
   "cell_type": "markdown",
   "id": "79e0100c",
   "metadata": {
    "papermill": {},
    "tags": []
   },
   "source": [
    "### Entraînement des classifieurs"
   ]
  },
  {
   "cell_type": "markdown",
   "id": "597e012b",
   "metadata": {
    "papermill": {},
    "tags": []
   },
   "source": [
    "#### Classifieurs non paramétriques"
   ]
  },
  {
   "cell_type": "markdown",
   "id": "ae80d936",
   "metadata": {
    "papermill": {},
    "tags": []
   },
   "source": [
    "##### K-Nearest Neighbors"
   ]
  },
  {
   "cell_type": "code",
   "execution_count": 17,
   "id": "3622ff1f",
   "metadata": {
    "papermill": {},
    "tags": []
   },
   "outputs": [],
   "source": [
    "from sklearn.neighbors import KNeighborsClassifier\n",
    "\n",
    "model = KNeighborsClassifier(weights='uniform', algorithm='auto')\n",
    "\n",
    "param_grid = {\n",
    "    'n_neighbors': [3, 5, 7, 9],\n",
    "}\n",
    "\n",
    "grid_search = get_grid(model, param_grid)\n",
    "\n",
    "grid_search.fit(X_train, y_train)\n",
    "store_results('KNN', grid_search)"
   ]
  },
  {
   "cell_type": "markdown",
   "id": "a4ed9a44",
   "metadata": {
    "papermill": {},
    "tags": []
   },
   "source": [
    "##### Distance-Weighted KNN"
   ]
  },
  {
   "cell_type": "code",
   "execution_count": 18,
   "id": "4345664f",
   "metadata": {
    "papermill": {},
    "tags": []
   },
   "outputs": [],
   "source": [
    "model = KNeighborsClassifier(weights='distance', algorithm='auto')\n",
    "\n",
    "param_grid = {\n",
    "    'n_neighbors': [3, 5, 7, 9],\n",
    "}\n",
    "\n",
    "grid_search = get_grid(model, param_grid)\n",
    "\n",
    "grid_search.fit(X_train, y_train)\n",
    "store_results('KNN Distance Weighted', grid_search)"
   ]
  },
  {
   "cell_type": "markdown",
   "id": "931e7ae5",
   "metadata": {
    "papermill": {},
    "tags": []
   },
   "source": [
    "##### Condensed Nearest Neighbor"
   ]
  },
  {
   "cell_type": "code",
   "execution_count": 19,
   "id": "ca1aa412",
   "metadata": {
    "papermill": {},
    "tags": []
   },
   "outputs": [
    {
     "ename": "NameError",
     "evalue": "name 'CondensedNearestNeighbourTransformer' is not defined",
     "output_type": "error",
     "traceback": [
      "\u001b[0;31m---------------------------------------------------------------------------\u001b[0m",
      "\u001b[0;31mNameError\u001b[0m                                 Traceback (most recent call last)",
      "Cell \u001b[0;32mIn[19], line 4\u001b[0m\n\u001b[1;32m      1\u001b[0m \u001b[38;5;28;01mfrom\u001b[39;00m\u001b[38;5;250m \u001b[39m\u001b[38;5;21;01msklearn\u001b[39;00m\u001b[38;5;21;01m.\u001b[39;00m\u001b[38;5;21;01mpipeline\u001b[39;00m\u001b[38;5;250m \u001b[39m\u001b[38;5;28;01mimport\u001b[39;00m Pipeline\n\u001b[1;32m      3\u001b[0m model \u001b[38;5;241m=\u001b[39m Pipeline([\n\u001b[0;32m----> 4\u001b[0m     (\u001b[38;5;124m'\u001b[39m\u001b[38;5;124mcnn\u001b[39m\u001b[38;5;124m'\u001b[39m, \u001b[43mCondensedNearestNeighbourTransformer\u001b[49m(sampling_strategy\u001b[38;5;241m=\u001b[39m\u001b[38;5;124m'\u001b[39m\u001b[38;5;124mauto\u001b[39m\u001b[38;5;124m'\u001b[39m, n_neighbors\u001b[38;5;241m=\u001b[39m\u001b[38;5;241m3\u001b[39m, n_seeds_S\u001b[38;5;241m=\u001b[39m\u001b[38;5;241m1\u001b[39m)),\n\u001b[1;32m      5\u001b[0m     (\u001b[38;5;124m'\u001b[39m\u001b[38;5;124mknn\u001b[39m\u001b[38;5;124m'\u001b[39m, KNeighborsClassifier(weights\u001b[38;5;241m=\u001b[39m\u001b[38;5;124m'\u001b[39m\u001b[38;5;124muniform\u001b[39m\u001b[38;5;124m'\u001b[39m, algorithm\u001b[38;5;241m=\u001b[39m\u001b[38;5;124m'\u001b[39m\u001b[38;5;124mauto\u001b[39m\u001b[38;5;124m'\u001b[39m))\n\u001b[1;32m      6\u001b[0m ])\n\u001b[1;32m      8\u001b[0m param_grid \u001b[38;5;241m=\u001b[39m {\n\u001b[1;32m      9\u001b[0m     \u001b[38;5;124m'\u001b[39m\u001b[38;5;124mcnn__n_neighbors\u001b[39m\u001b[38;5;124m'\u001b[39m: [\u001b[38;5;241m3\u001b[39m, \u001b[38;5;241m5\u001b[39m, \u001b[38;5;241m7\u001b[39m, \u001b[38;5;241m9\u001b[39m],\n\u001b[1;32m     10\u001b[0m     \u001b[38;5;124m'\u001b[39m\u001b[38;5;124mknn__n_neighbors\u001b[39m\u001b[38;5;124m'\u001b[39m: [\u001b[38;5;241m3\u001b[39m, \u001b[38;5;241m5\u001b[39m, \u001b[38;5;241m7\u001b[39m, \u001b[38;5;241m9\u001b[39m],\n\u001b[1;32m     11\u001b[0m }\n\u001b[1;32m     13\u001b[0m grid_search \u001b[38;5;241m=\u001b[39m GridSearchCV(\n\u001b[1;32m     14\u001b[0m     estimator\u001b[38;5;241m=\u001b[39mmodel,\n\u001b[1;32m     15\u001b[0m     param_grid\u001b[38;5;241m=\u001b[39mparam_grid, \n\u001b[0;32m   (...)\u001b[0m\n\u001b[1;32m     18\u001b[0m     refit\u001b[38;5;241m=\u001b[39m\u001b[38;5;28;01mTrue\u001b[39;00m\n\u001b[1;32m     19\u001b[0m     )\n",
      "\u001b[0;31mNameError\u001b[0m: name 'CondensedNearestNeighbourTransformer' is not defined"
     ]
    }
   ],
   "source": [
    "from imblearn.under_sampling import CondensedNearestNeighbour\n",
    "from sklearn.base import BaseEstimator, TransformerMixin\n",
    "from sklearn.utils import check_X_y\n",
    "from sklearn.utils.validation import validate_data\n",
    "\n",
    "# Wrap CondensedNearestNeighbour into an sklearn compatible transformer for use in pipelines\n",
    "class CondensedNearestNeighbourTransformer(BaseEstimator, TransformerMixin):\n",
    "    def __init__(self, sampling_strategy = \"auto\", random_state = 42, n_neighbors = None, n_seeds_S = 1):\n",
    "        self.sampling_strategy = sampling_strategy\n",
    "        self.random_state = random_state\n",
    "        self.n_neighbors = n_neighbors\n",
    "        self.n_seeds_S = n_seeds_S\n",
    "\n",
    "    def fit(self, X, y=None):\n",
    "        # validate_data(X, y, accept_sparse=True, reset=True)\n",
    "        self.n_features_in_ = X.shape[1]\n",
    "        \n",
    "        return self\n",
    "\n",
    "    def transform(self, X, y=None):\n",
    "        # check_X_y(X, y)\n",
    "\n",
    "        if y is None:\n",
    "            return X\n",
    "        else:    \n",
    "          return CondensedNearestNeighbour(\n",
    "            sampling_strategy = self.sampling_strategy,\n",
    "            random_state = self.random_state,\n",
    "            n_neighbors = self.n_neighbors,\n",
    "            n_seeds_S = self.n_seeds_S\n",
    "          ).fit_resample(X, y)\n",
    "\n",
    "from sklearn.utils.estimator_checks import check_estimator\n",
    "# check_estimator(CondensedNearestNeighbourTransformer())"
   ]
  },
  {
   "cell_type": "code",
   "execution_count": null,
   "id": "59cca85d",
   "metadata": {
    "papermill": {},
    "tags": []
   },
   "outputs": [],
   "source": [
    "from sklearn.pipeline import Pipeline\n",
    "\n",
    "model = Pipeline([\n",
    "    ('cnn', CondensedNearestNeighbourTransformer(sampling_strategy='auto', n_neighbors=3, n_seeds_S=1)),\n",
    "    ('knn', KNeighborsClassifier(weights='uniform', algorithm='auto'))\n",
    "])\n",
    "\n",
    "param_grid = {\n",
    "    'cnn__n_neighbors': [3, 5, 7, 9],\n",
    "    'knn__n_neighbors': [3, 5, 7, 9],\n",
    "}\n",
    "\n",
    "grid_search = get_grid(model, param_grid)\n",
    "\n",
    "grid_search.fit(X_train, y_train)\n",
    "store_results('KNN Condensed Nearest Neighbor', grid_search)"
   ]
  },
  {
   "cell_type": "markdown",
   "id": "4891c21e",
   "metadata": {
    "papermill": {},
    "tags": []
   },
   "source": [
    "##### Locally Adaptive KNN"
   ]
  },
  {
   "cell_type": "code",
   "execution_count": null,
   "id": "7941d086",
   "metadata": {
    "papermill": {},
    "tags": []
   },
   "outputs": [],
   "source": [
    "class LocallyAdaptiveKNN(KNeighborsClassifier):\n",
    "    def predict(self, X):\n",
    "        distances, indices = self.kneighbors(X)\n",
    "        predictions = []\n",
    "        for i, neighbors in enumerate(indices):\n",
    "            local_k = int(len(neighbors) / 2)  # Example of adapting k locally\n",
    "            local_knn = KNeighborsClassifier(n_neighbors=local_k)\n",
    "            local_knn.fit(self._fit_X[neighbors], self._y[neighbors])\n",
    "            predictions.append(local_knn.predict([X[i]])[0])\n",
    "        return predictions\n",
    "\n",
    "model = LocallyAdaptiveKNN(weights='uniform', algorithm='auto')\n",
    "\n",
    "param_grid = {\n",
    "    'n_neighbors': [3, 5, 7, 9],\n",
    "}\n",
    "\n",
    "grid_search = get_grid(model, param_grid)\n",
    "\n",
    "grid_search.fit(X_train, y_train)\n",
    "store_results('KNN Locally Adaptive', grid_search)"
   ]
  },
  {
   "cell_type": "markdown",
   "id": "87a78c12",
   "metadata": {
    "papermill": {},
    "tags": []
   },
   "source": [
    "#### Classifieurs binaires non linéaires"
   ]
  },
  {
   "cell_type": "markdown",
   "id": "7ae35ede",
   "metadata": {
    "papermill": {},
    "tags": []
   },
   "source": [
    "##### Arbre de décision (Decision Tree)"
   ]
  },
  {
   "cell_type": "code",
   "execution_count": null,
   "id": "7a88de80",
   "metadata": {
    "papermill": {},
    "tags": []
   },
   "outputs": [],
   "source": [
    "from sklearn.tree import DecisionTreeClassifier\n",
    "\n",
    "model = DecisionTreeClassifier(random_state=42)\n",
    "\n",
    "param_grid = {\n",
    "    'max_depth': [3, 5, 7, 9],\n",
    "    'min_samples_split': [2, 5, 10]\n",
    "}\n",
    "\n",
    "grid_search = get_grid(model, param_grid)\n",
    "\n",
    "grid_search.fit(X_train, y_train)\n",
    "store_results('Decision Tree', grid_search)"
   ]
  },
  {
   "cell_type": "markdown",
   "id": "9b35a504",
   "metadata": {
    "papermill": {},
    "tags": []
   },
   "source": [
    "##### Forêt aléatoire (RandomForest)"
   ]
  },
  {
   "cell_type": "code",
   "execution_count": null,
   "id": "0049f70d",
   "metadata": {
    "papermill": {},
    "tags": []
   },
   "outputs": [],
   "source": [
    "from sklearn.ensemble import RandomForestClassifier\n",
    "\n",
    "model = RandomForestClassifier(random_state=42, class_weight=None)\n",
    "\n",
    "param_grid = {\n",
    "    'n_estimators': [50, 100, 200],\n",
    "    'max_depth': [3, 5, 7, 9],\n",
    "    'min_samples_split': [2, 5, 10],\n",
    "}\n",
    "\n",
    "grid_search = get_grid(model, param_grid)\n",
    "\n",
    "grid_search.fit(X_train, y_train)\n",
    "store_results('Random Forest', grid_search)"
   ]
  },
  {
   "cell_type": "markdown",
   "id": "6dad9d15",
   "metadata": {
    "papermill": {},
    "tags": []
   },
   "source": [
    "##### Forêt aléatoire avec cost-sensitive learning"
   ]
  },
  {
   "cell_type": "code",
   "execution_count": null,
   "id": "f03c15fe",
   "metadata": {
    "papermill": {},
    "tags": []
   },
   "outputs": [],
   "source": [
    "from sklearn.ensemble import RandomForestClassifier\n",
    "\n",
    "model = RandomForestClassifier(random_state=42, class_weight='balanced')\n",
    "\n",
    "param_grid = {\n",
    "    'n_estimators': [50, 100, 200],\n",
    "    'max_depth': [3, 5, 7, 9],\n",
    "    'min_samples_split': [2, 5, 10],\n",
    "}\n",
    "\n",
    "grid_search = get_grid(model, param_grid)\n",
    "\n",
    "grid_search.fit(X_train, y_train)\n",
    "store_results('Random Forest - cost-sensitive learning', grid_search)"
   ]
  },
  {
   "cell_type": "markdown",
   "id": "fca69bf0",
   "metadata": {
    "papermill": {},
    "tags": []
   },
   "source": [
    "##### AdaBoost"
   ]
  },
  {
   "cell_type": "code",
   "execution_count": null,
   "id": "ececb0f7",
   "metadata": {
    "papermill": {},
    "tags": []
   },
   "outputs": [],
   "source": [
    "from sklearn.ensemble import AdaBoostClassifier\n",
    "\n",
    "model = AdaBoostClassifier(random_state=42)\n",
    "\n",
    "param_grid = {\n",
    "    'n_estimators': [50, 100, 200],\n",
    "    'learning_rate': [0.01, 0.1, 1.0]\n",
    "}\n",
    "\n",
    "grid_search = get_grid(model, param_grid)\n",
    "\n",
    "grid_search.fit(X_train, y_train)\n",
    "store_results('AdaBoost', grid_search)"
   ]
  },
  {
   "cell_type": "markdown",
   "id": "4a385e9f",
   "metadata": {
    "papermill": {},
    "tags": []
   },
   "source": [
    "##### Gradient Boosting"
   ]
  },
  {
   "cell_type": "code",
   "execution_count": null,
   "id": "0d6d1543",
   "metadata": {
    "papermill": {},
    "tags": []
   },
   "outputs": [],
   "source": [
    "from sklearn.ensemble import GradientBoostingClassifier\n",
    "\n",
    "model = GradientBoostingClassifier(random_state=42)\n",
    "\n",
    "param_grid = {\n",
    "    'loss': ['log_loss', 'exponential'],\n",
    "    'n_estimators': [50, 100, 200],\n",
    "    'learning_rate': [0.01, 0.1, 1.0],\n",
    "    'max_depth': [3, 5, 7, 9]\n",
    "}\n",
    "\n",
    "grid_search = get_grid(model, param_grid)\n",
    "\n",
    "grid_search.fit(X_train, y_train)\n",
    "store_results('Gradient Boosting', grid_search)"
   ]
  },
  {
   "cell_type": "markdown",
   "id": "54e90cc8",
   "metadata": {
    "papermill": {},
    "tags": []
   },
   "source": [
    "#### Classifieurs binaires paramétriques"
   ]
  },
  {
   "cell_type": "markdown",
   "id": "b71cdddb",
   "metadata": {
    "papermill": {},
    "tags": []
   },
   "source": [
    "##### SVM Linéaire"
   ]
  },
  {
   "cell_type": "code",
   "execution_count": null,
   "id": "dbc6cde2",
   "metadata": {
    "papermill": {},
    "tags": []
   },
   "outputs": [],
   "source": [
    "from sklearn.svm import SVC\n",
    "\n",
    "model = SVC(\n",
    "    kernel='linear',\n",
    "    random_state=42, probability=True)\n",
    "\n",
    "param_grid = {\n",
    "    'C': [0.1, 0.5, 1],\n",
    "    'degree': [2, 3, 4]\n",
    "}\n",
    "\n",
    "grid_search = get_grid(model, param_grid)\n",
    "\n",
    "grid_search.fit(X_train, y_train)\n",
    "store_results('SVM', grid_search)"
   ]
  },
  {
   "cell_type": "markdown",
   "id": "3626041d",
   "metadata": {
    "papermill": {},
    "tags": []
   },
   "source": [
    "##### SVM  non linéaire"
   ]
  },
  {
   "cell_type": "code",
   "execution_count": null,
   "id": "5b0e8116",
   "metadata": {
    "papermill": {},
    "tags": []
   },
   "outputs": [],
   "source": [
    "from sklearn.svm import SVC\n",
    "\n",
    "model = SVC(random_state=42, probability=True)\n",
    "\n",
    "param_grid = {\n",
    "    'kernel': ['poly', 'rbf', 'sigmoid'],\n",
    "    'C': [0.1, 0.5, 1],\n",
    "    'gamma': ['scale', 'auto']\n",
    "}\n",
    "\n",
    "grid_search = get_grid(model, param_grid)\n",
    "\n",
    "grid_search.fit(X_train, y_train)\n",
    "store_results('SVM non linéaire', grid_search)"
   ]
  },
  {
   "cell_type": "markdown",
   "id": "82d74b05",
   "metadata": {
    "papermill": {},
    "tags": []
   },
   "source": [
    "##### SVM non linéaire avec sur-échantillonnage"
   ]
  },
  {
   "cell_type": "code",
   "execution_count": null,
   "id": "71b29504",
   "metadata": {
    "papermill": {},
    "tags": []
   },
   "outputs": [],
   "source": [
    "X_train, X_test, y_train, y_test = train_test_split(X, y, test_size=0.3, random_state=42)\n",
    "\n",
    "from sklearn.preprocessing import StandardScaler\n",
    "\n",
    "# Normalize data using only the training set\n",
    "scaler = StandardScaler()\n",
    "scaler.fit(X_train)\n",
    "X_train = scaler.transform(X_train)\n",
    "X_test = scaler.transform(X_test)"
   ]
  },
  {
   "cell_type": "code",
   "execution_count": null,
   "id": "8aa2c153",
   "metadata": {
    "papermill": {},
    "tags": []
   },
   "outputs": [],
   "source": [
    "from imblearn.pipeline import Pipeline as ImbPipeline\n",
    "from imblearn.over_sampling import SMOTE\n",
    "from sklearn.svm import SVC\n",
    "\n",
    "model = ImbPipeline([\n",
    "    ('smote', SMOTE(sampling_strategy='auto', k_neighbors=1, random_state=42)),\n",
    "    ('svm', SVC(random_state=42, probability=True))\n",
    "])\n",
    "\n",
    "param_grid = {\n",
    "    'svm__kernel': ['poly', 'rbf', 'sigmoid'],\n",
    "    'svm__C': [0.1, 0.5, 1],\n",
    "    'svm__gamma': ['scale', 'auto']\n",
    "}\n",
    "\n",
    "grid_search = get_grid(model, param_grid)\n",
    "\n",
    "grid_search.fit(X_train, y_train)\n",
    "store_results('SVM non linéaire avec SMOTE', grid_search)"
   ]
  },
  {
   "cell_type": "markdown",
   "id": "81c19689",
   "metadata": {
    "papermill": {},
    "tags": []
   },
   "source": [
    "##### SVM avec cost-sensitive learning (ajustement pénalité C)"
   ]
  },
  {
   "cell_type": "code",
   "execution_count": null,
   "id": "bdf8445a",
   "metadata": {
    "papermill": {},
    "tags": []
   },
   "outputs": [],
   "source": [
    "from sklearn.svm import SVC\n",
    "\n",
    "model = SVC(random_state=42, probability=True, class_weight='balanced')\n",
    "\n",
    "param_grid = {\n",
    "    'kernel': ['poly', 'rbf', 'sigmoid'],\n",
    "    'C': [0.1, 0.5, 1],\n",
    "    'gamma': ['scale', 'auto']\n",
    "}\n",
    "\n",
    "grid_search = get_grid(model, param_grid)\n",
    "\n",
    "grid_search.fit(X_train, y_train)\n",
    "store_results('SVM cost-sensitive learning', grid_search)"
   ]
  },
  {
   "cell_type": "markdown",
   "id": "ed33becc",
   "metadata": {
    "papermill": {},
    "tags": []
   },
   "source": [
    "##### Régression logistique"
   ]
  },
  {
   "cell_type": "code",
   "execution_count": null,
   "id": "358731f6",
   "metadata": {
    "papermill": {},
    "tags": []
   },
   "outputs": [],
   "source": [
    "from sklearn.linear_model import LogisticRegression\n",
    "\n",
    "model = LogisticRegression(random_state=42, solver='liblinear', dual=False)\n",
    "\n",
    "param_grid = {\n",
    "    'C': [0.1, 0.5, 1],                         # Inverse de la force de régularisation\n",
    "    'penalty': ['l1', 'l2'],      # Type de régularisation\n",
    "    'class_weight': [None, 'balanced']          # Poids des classes\n",
    "}\n",
    "\n",
    "grid_search = get_grid(model, param_grid)\n",
    "\n",
    "grid_search.fit(X_train, y_train)\n",
    "store_results('Logistic Regression', grid_search)"
   ]
  },
  {
   "cell_type": "markdown",
   "id": "6611374f",
   "metadata": {
    "papermill": {},
    "tags": []
   },
   "source": [
    "#### Sauvegarde des prédictions et paramètres des modèles"
   ]
  },
  {
   "cell_type": "code",
   "execution_count": null,
   "id": "f7f06912",
   "metadata": {
    "papermill": {},
    "tags": []
   },
   "outputs": [],
   "source": [
    "from pathlib import Path\n",
    "from joblib import dump\n",
    "\n",
    "# Save models results\n",
    "dump(MODELS, f\"./../results/{dataset}.joblib\")"
   ]
  },
  {
   "cell_type": "markdown",
   "id": "219ca6a5",
   "metadata": {
    "papermill": {},
    "tags": []
   },
   "source": [
    "#### Performance des modèles sur les données de test"
   ]
  },
  {
   "cell_type": "code",
   "execution_count": null,
   "id": "5d23316d",
   "metadata": {
    "papermill": {},
    "tags": []
   },
   "outputs": [],
   "source": [
    "from utils import plot_roc, plot_precision_recall, table_report\n",
    "\n",
    "for model_name, model in MODELS.items():\n",
    "    print(f\"Model: {model_name}\")\n",
    "    table_report(model['y_true'], model['y_pred'])\n",
    "    plot_roc(model['y_true'], model['y_proba'][:, 1])\n",
    "    plot_precision_recall(model['y_true'], model['y_proba'][:, 1])"
   ]
  }
 ],
 "metadata": {
  "kernelspec": {
   "display_name": ".venv",
   "language": "python",
   "name": "python3"
  },
  "language_info": {
   "codemirror_mode": {
    "name": "ipython",
    "version": 3
   },
   "file_extension": ".py",
   "mimetype": "text/x-python",
   "name": "python",
   "nbconvert_exporter": "python",
   "pygments_lexer": "ipython3",
   "version": "3.12.8"
  },
  "papermill": {
   "default_parameters": {},
   "environment_variables": {},
   "input_path": "src/template.ipynb",
   "output_path": "src_built/1 - abalone17.ipynb",
   "parameters": {
    "dataset": "abalone17"
   },
   "version": "2.6.0"
  }
 },
 "nbformat": 4,
 "nbformat_minor": 5
}
